{
 "cells": [
  {
   "cell_type": "code",
   "execution_count": null,
   "metadata": {
    "ExecuteTime": {
     "end_time": "2019-01-29T23:06:15.029373Z",
     "start_time": "2019-01-29T23:06:15.026699Z"
    }
   },
   "outputs": [],
   "source": [
    "import re\n",
    "import smtplib\n",
    "import dns.resolver\n",
    "import socket"
   ]
  },
  {
   "cell_type": "code",
   "execution_count": null,
   "metadata": {
    "ExecuteTime": {
     "end_time": "2019-01-29T23:04:27.781626Z",
     "start_time": "2019-01-29T23:04:27.778868Z"
    }
   },
   "outputs": [],
   "source": [
    "from_address = 'info@destetik.com'\n",
    "address = 'hello@destetik.com'"
   ]
  },
  {
   "cell_type": "code",
   "execution_count": null,
   "metadata": {
    "ExecuteTime": {
     "end_time": "2019-01-29T23:04:42.926895Z",
     "start_time": "2019-01-29T23:04:42.922719Z"
    }
   },
   "outputs": [],
   "source": [
    "is_valid = True\n",
    "\n",
    "regex = '^[_a-z0-9-]+(\\.[_a-z0-9-]+)*@[a-z0-9-]+(\\.[a-z0-9-]+)*(\\.[a-z]{2,})$'\n",
    "\n",
    "match = re.match(regex, address)\n",
    "# print(match)\n",
    "\n",
    "if not match:\n",
    "    is_valid = False\n",
    "    print('Bad syntax!', address)"
   ]
  },
  {
   "cell_type": "code",
   "execution_count": null,
   "metadata": {
    "ExecuteTime": {
     "end_time": "2019-01-29T23:04:43.869532Z",
     "start_time": "2019-01-29T23:04:43.865720Z"
    }
   },
   "outputs": [],
   "source": [
    "domain = address.split('@')[1]\n",
    "print('Domain:', domain)"
   ]
  },
  {
   "cell_type": "code",
   "execution_count": null,
   "metadata": {
    "ExecuteTime": {
     "end_time": "2019-01-29T23:04:45.114146Z",
     "start_time": "2019-01-29T23:04:45.012485Z"
    }
   },
   "outputs": [],
   "source": [
    "# MX record lookup\n",
    "records = dns.resolver.query(domain, 'MX')\n",
    "print(records)"
   ]
  },
  {
   "cell_type": "code",
   "execution_count": null,
   "metadata": {
    "ExecuteTime": {
     "end_time": "2019-01-29T23:04:50.438866Z",
     "start_time": "2019-01-29T23:04:50.435051Z"
    }
   },
   "outputs": [],
   "source": [
    "mxRecord = str(records[0].exchange)\n",
    "print(mxRecord)"
   ]
  },
  {
   "cell_type": "code",
   "execution_count": null,
   "metadata": {
    "ExecuteTime": {
     "end_time": "2019-01-29T23:06:20.137206Z",
     "start_time": "2019-01-29T23:06:20.133513Z"
    }
   },
   "outputs": [],
   "source": [
    "host = socket.gethostname()\n",
    "print(host)"
   ]
  },
  {
   "cell_type": "code",
   "execution_count": null,
   "metadata": {
    "ExecuteTime": {
     "end_time": "2019-01-29T23:06:22.939035Z",
     "start_time": "2019-01-29T23:06:22.934466Z"
    }
   },
   "outputs": [],
   "source": [
    "# SMTP lib setup \n",
    "server = smtplib.SMTP()\n",
    "server.set_debuglevel(0)"
   ]
  },
  {
   "cell_type": "code",
   "execution_count": null,
   "metadata": {
    "ExecuteTime": {
     "end_time": "2019-01-29T23:06:32.316594Z",
     "start_time": "2019-01-29T23:06:32.307849Z"
    }
   },
   "outputs": [],
   "source": [
    "server.local_hostname"
   ]
  },
  {
   "cell_type": "code",
   "execution_count": null,
   "metadata": {
    "ExecuteTime": {
     "end_time": "2019-01-29T23:07:13.233687Z",
     "start_time": "2019-01-29T23:07:00.119816Z"
    }
   },
   "outputs": [],
   "source": [
    "# SMTP Conversation\n",
    "server.connect(mxRecord)\n",
    "server.helo(host)\n",
    "server.mail(from_address)\n",
    "code, message = server.rcpt(address)\n",
    "server.quit()\n",
    "print(code)\n",
    "print(message)"
   ]
  },
  {
   "cell_type": "code",
   "execution_count": null,
   "metadata": {},
   "outputs": [],
   "source": [
    "if code != 250:\n",
    "    is_valid = False\n",
    "    print('Bad')\n",
    "else:\n",
    "    print('Success')"
   ]
  }
 ],
 "metadata": {
  "kernelspec": {
   "display_name": "Python 3",
   "language": "python",
   "name": "python3"
  },
  "language_info": {
   "codemirror_mode": {
    "name": "ipython",
    "version": 3
   },
   "file_extension": ".py",
   "mimetype": "text/x-python",
   "name": "python",
   "nbconvert_exporter": "python",
   "pygments_lexer": "ipython3",
   "version": "3.6.1"
  },
  "varInspector": {
   "cols": {
    "lenName": 16,
    "lenType": 16,
    "lenVar": 40
   },
   "kernels_config": {
    "python": {
     "delete_cmd_postfix": "",
     "delete_cmd_prefix": "del ",
     "library": "var_list.py",
     "varRefreshCmd": "print(var_dic_list())"
    },
    "r": {
     "delete_cmd_postfix": ") ",
     "delete_cmd_prefix": "rm(",
     "library": "var_list.r",
     "varRefreshCmd": "cat(var_dic_list()) "
    }
   },
   "types_to_exclude": [
    "module",
    "function",
    "builtin_function_or_method",
    "instance",
    "_Feature"
   ],
   "window_display": false
  }
 },
 "nbformat": 4,
 "nbformat_minor": 2
}
